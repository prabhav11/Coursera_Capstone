{
    "cells": [
        {
            "cell_type": "markdown",
            "metadata": {
                "collapsed": true
            },
            "source": "# Segmenting and Clustering Neighborhoods in Toronto"
        },
        {
            "cell_type": "code",
            "execution_count": 164,
            "metadata": {},
            "outputs": [],
            "source": "# Installing  Libraries\nimport requests\nimport urllib.request\nimport time\nfrom bs4 import BeautifulSoup\nimport numpy as np\nimport pandas as pd\nfrom urllib.request import urlopen"
        },
        {
            "cell_type": "code",
            "execution_count": 165,
            "metadata": {},
            "outputs": [],
            "source": "# Wikipedia page and table details\nurl = 'https://en.wikipedia.org/wiki/List_of_postal_codes_of_Canada:_M'\nhtml = urlopen(url) \nsoup = BeautifulSoup(html, 'html.parser')\ntables = soup.find_all(\"table\", class_ = \"wikitable sortable\")"
        },
        {
            "cell_type": "code",
            "execution_count": 201,
            "metadata": {},
            "outputs": [],
            "source": "# Extracting cells from the table and placing them in three lists as per the columns\npostal_code = []\nborough = []\nneighborhood = []\n\nfor table in tables:\n    rows = table.find_all('tr')\n    \n    for row in rows:\n        cells = row.find_all('td')\n        \n        \n        if len(cells) > 1:\n            postal = cells[0]\n            postal_code.append(postal.text)\n            \n            bor = cells[1]\n            borough.append(bor.text)\n            \n            neig = cells[2]\n            neighborhood.append(neig.text)\n            \n"
        },
        {
            "cell_type": "code",
            "execution_count": 232,
            "metadata": {},
            "outputs": [],
            "source": "# Converting the lists to a Pandas Dataframe df\ndf = pd.DataFrame(postal_code, columns = ['Postal Code'] )\ndf.insert(1, 'Borough', borough)\ndf.insert(2, 'Neighborhood', neighborhood)"
        },
        {
            "cell_type": "code",
            "execution_count": 240,
            "metadata": {},
            "outputs": [],
            "source": "#Creating a new DataFrame called Canada_Postal_Codes to clean the data\nCanada_Postal_Codes = df\n\n#Removing \\n from the data\nCanada_Postal_Codes.replace('\\\\n','', regex=True, inplace = True)\n\n#Dropping rows with Borough as Not assigned\nCanada_Postal_Codes.replace('Not assigned', np.nan, inplace = True)\nCanada_Postal_Codes.dropna(subset=['Borough'], inplace = True)\n\n#Replacing Neighborhood as Borough when it is Not Assigned\nCanada_Postal_Codes.loc[df['Neighborhood'].isnull(),'Neighborhood'] = df['Borough']\n\n#Resetting the index\nCanada_Postal_Codes.reset_index(drop = True, inplace = True)"
        },
        {
            "cell_type": "code",
            "execution_count": 242,
            "metadata": {},
            "outputs": [
                {
                    "data": {
                        "text/html": "<div>\n<style scoped>\n    .dataframe tbody tr th:only-of-type {\n        vertical-align: middle;\n    }\n\n    .dataframe tbody tr th {\n        vertical-align: top;\n    }\n\n    .dataframe thead th {\n        text-align: right;\n    }\n</style>\n<table border=\"1\" class=\"dataframe\">\n  <thead>\n    <tr style=\"text-align: right;\">\n      <th></th>\n      <th>Postal Code</th>\n      <th>Borough</th>\n      <th>Neighborhood</th>\n    </tr>\n  </thead>\n  <tbody>\n    <tr>\n      <th>0</th>\n      <td>M3A</td>\n      <td>North York</td>\n      <td>Parkwoods</td>\n    </tr>\n    <tr>\n      <th>1</th>\n      <td>M4A</td>\n      <td>North York</td>\n      <td>Victoria Village</td>\n    </tr>\n    <tr>\n      <th>2</th>\n      <td>M5A</td>\n      <td>Downtown Toronto</td>\n      <td>Regent Park, Harbourfront</td>\n    </tr>\n    <tr>\n      <th>3</th>\n      <td>M6A</td>\n      <td>North York</td>\n      <td>Lawrence Manor, Lawrence Heights</td>\n    </tr>\n    <tr>\n      <th>4</th>\n      <td>M7A</td>\n      <td>Downtown Toronto</td>\n      <td>Queen's Park, Ontario Provincial Government</td>\n    </tr>\n  </tbody>\n</table>\n</div>",
                        "text/plain": "  Postal Code           Borough                                 Neighborhood\n0         M3A        North York                                    Parkwoods\n1         M4A        North York                             Victoria Village\n2         M5A  Downtown Toronto                    Regent Park, Harbourfront\n3         M6A        North York             Lawrence Manor, Lawrence Heights\n4         M7A  Downtown Toronto  Queen's Park, Ontario Provincial Government"
                    },
                    "execution_count": 242,
                    "metadata": {},
                    "output_type": "execute_result"
                }
            ],
            "source": "Canada_Postal_Codes.head()"
        },
        {
            "cell_type": "code",
            "execution_count": 236,
            "metadata": {},
            "outputs": [
                {
                    "data": {
                        "text/plain": "(103, 3)"
                    },
                    "execution_count": 236,
                    "metadata": {},
                    "output_type": "execute_result"
                }
            ],
            "source": "#Shape of the DataFrame\nCanada_Postal_Codes.shape"
        }
    ],
    "metadata": {
        "kernelspec": {
            "display_name": "Python 3.6",
            "language": "python",
            "name": "python3"
        },
        "language_info": {
            "codemirror_mode": {
                "name": "ipython",
                "version": 3
            },
            "file_extension": ".py",
            "mimetype": "text/x-python",
            "name": "python",
            "nbconvert_exporter": "python",
            "pygments_lexer": "ipython3",
            "version": "3.6.9"
        }
    },
    "nbformat": 4,
    "nbformat_minor": 1
}